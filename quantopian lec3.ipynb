{
 "cells": [
  {
   "cell_type": "code",
   "execution_count": 3,
   "metadata": {},
   "outputs": [
    {
     "name": "stdout",
     "output_type": "stream",
     "text": [
      "Expected return of the portfolio:  1.62827032811\n",
      "[[ 0.00087034  0.00092479  0.00086139  0.00074255  0.00097622  0.00089231\n",
      "   0.000809    0.00096489  0.00093276  0.00091357]\n",
      " [ 0.00092479  0.00132642  0.00093944  0.00081984  0.00105902  0.00095009\n",
      "   0.00089531  0.00109546  0.00103515  0.00100079]\n",
      " [ 0.00086139  0.00093944  0.00119006  0.00074571  0.00099216  0.0008961\n",
      "   0.0007749   0.00090409  0.00089154  0.00091918]\n",
      " [ 0.00074255  0.00081984  0.00074571  0.00097633  0.00086242  0.00075502\n",
      "   0.00073208  0.00086409  0.00074197  0.00076423]\n",
      " [ 0.00097622  0.00105902  0.00099216  0.00086242  0.00141702  0.00096851\n",
      "   0.00088741  0.00109602  0.00110261  0.00100549]\n",
      " [ 0.00089231  0.00095009  0.0008961   0.00075502  0.00096851  0.0012666\n",
      "   0.00083934  0.00102392  0.00098861  0.00089341]\n",
      " [ 0.000809    0.00089531  0.0007749   0.00073208  0.00088741  0.00083934\n",
      "   0.00113432  0.00094391  0.00086294  0.00073637]\n",
      " [ 0.00096489  0.00109546  0.00090409  0.00086409  0.00109602  0.00102392\n",
      "   0.00094391  0.00131769  0.00106842  0.00100765]\n",
      " [ 0.00093276  0.00103515  0.00089154  0.00074197  0.00110261  0.00098861\n",
      "   0.00086294  0.00106842  0.00136758  0.00100282]\n",
      " [ 0.00091357  0.00100079  0.00091918  0.00076423  0.00100549  0.00089341\n",
      "   0.00073637  0.00100765  0.00100282  0.00136153]]\n",
      "Portfolio volatility:  0.0309174576527 0.000955889187706\n",
      "Portfolio volatility:  0.0309174576527\n"
     ]
    }
   ],
   "source": [
    "import numpy as np\n",
    "# Initialize np\n",
    "N = 10\n",
    "assets = np.zeros((N, 100))\n",
    "returns = np.zeros((N, 100))\n",
    "# giving values\n",
    "R_1 = np.random.normal(1.01, 0.03, 100)\n",
    "returns[0] = R_1\n",
    "assets[0] = np.cumprod(R_1) # cumulative product\n",
    "\n",
    "# Generate assets that are correlated with R_1\n",
    "for i in range(1, N):\n",
    "    R_i = R_1 + np.random.normal(0.001, 0.02, 100)\n",
    "    returns[i] = R_i # Set each row of returns equal to the new R_i array\n",
    "    assets[i] = np.cumprod(R_i)\n",
    "    \n",
    "mean_returns = [(np.mean(R) - 1)*100 for R in returns] # %\n",
    "return_volatilities = [np.std(R) for R in returns]\n",
    "\n",
    "# Calculating the portfolio volatility\n",
    "weights = np.random.uniform(0, 1, N)\n",
    "weights = weights/np.sum(weights)\n",
    "p_returns = np.dot(weights, mean_returns)\n",
    "print \"Expected return of the portfolio: \", p_returns\n",
    "#print(returns.shape)\n",
    "cov_mat = np.cov(returns)\n",
    "print cov_mat\n",
    "\n",
    "#print(cov_mat.shape)\n",
    "var_p = np.dot(np.dot(weights, cov_mat), weights.T)\n",
    "vol_p = np.sqrt(var_p)\n",
    "print \"Portfolio volatility: \", vol_p,var_p\n",
    "\n",
    "# Confirming calculation\n",
    "vol_p_alt = np.sqrt(np.var(np.dot(weights, returns), ddof=1))\n",
    "print \"Portfolio volatility: \", vol_p_alt"
   ]
  },
  {
   "cell_type": "code",
   "execution_count": null,
   "metadata": {},
   "outputs": [],
   "source": []
  }
 ],
 "metadata": {
  "kernelspec": {
   "display_name": "Python 2",
   "language": "python",
   "name": "python2"
  },
  "language_info": {
   "codemirror_mode": {
    "name": "ipython",
    "version": 2
   },
   "file_extension": ".py",
   "mimetype": "text/x-python",
   "name": "python",
   "nbconvert_exporter": "python",
   "pygments_lexer": "ipython2",
   "version": "2.7.16"
  }
 },
 "nbformat": 4,
 "nbformat_minor": 2
}
