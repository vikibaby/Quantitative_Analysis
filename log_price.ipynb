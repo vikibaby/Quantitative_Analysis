{
 "cells": [
  {
   "cell_type": "code",
   "execution_count": 1,
   "metadata": {},
   "outputs": [],
   "source": [
    "import pandas as pd\n",
    "import numpy as np\n",
    "import math\n",
    "import random\n",
    "#import statistics"
   ]
  },
  {
   "cell_type": "code",
   "execution_count": 2,
   "metadata": {},
   "outputs": [],
   "source": [
    "#random.normalvariate(mu, sigma)\n",
    "#mu is the mean, and sigma is the standard deviation\n",
    "\n",
    "#A normal distribution with a mean of 0 and a standard deviation of 1\n",
    "\n",
    "#np.random.normal(loc=0.0, scale=1.0, size=None)\n",
    "#loc: Mean (“centre”) of the distribution\n",
    "#scale:Standard deviation (spread or “width”) of the distribution."
   ]
  },
  {
   "cell_type": "code",
   "execution_count": 3,
   "metadata": {},
   "outputs": [],
   "source": [
    "def random_list(year, path):\n",
    "    returns = np.zeros((path,year))  \n",
    "    for i in range(0, path):\n",
    "        P_i = np.random.normal(0, 1, year)\n",
    "        returns[i] = P_i # Set each row of returns equal to the new R_i array\n",
    "    return returns"
   ]
  },
  {
   "cell_type": "markdown",
   "metadata": {},
   "source": [
    "As an alternative, please consider the following.\n",
    "Let the random variables X ~ N(0,1) and Y ~ N(0,1) independently. \n",
    "Then the random variables X and $rhoX + \\sqrt{(1 - rho^2)}$ Y are both distributed N(0,1), but are now correlated with correlation rho."
   ]
  },
  {
   "cell_type": "code",
   "execution_count": 4,
   "metadata": {},
   "outputs": [],
   "source": [
    "def np_random_list(year,path,rho):\n",
    "    # rho(p) :correlation coefficient\n",
    "    a1 = random_list(year, path)\n",
    "    a2 = random_list(year, path)\n",
    "    _rho = math.sqrt(1-math.pow(rho,2))\n",
    "    a3  = rho*a1 + _rho *a2\n",
    "    return(a1,a2,a3)"
   ]
  },
  {
   "cell_type": "code",
   "execution_count": 7,
   "metadata": {},
   "outputs": [],
   "source": [
    "def correlated_ts(year,price0,path,a1,a2,a3,drift,volatility):\n",
    "    \n",
    "    logcash = [math.log(price0)]\n",
    "    logequit = [math.log(price0)]\n",
    "    logbond = [math.log(price0)]\n",
    "    \n",
    "    for i in range(year):\n",
    "       \n",
    "        logcash.append(logcash[-1]   + drift[0])\n",
    "        logequit.append(logequit[-1] + drift[1] - volatility[1] * volatility[1]/2 + volatility[1]* a1[path][i])\n",
    "        logbond.append(logbond[-1]   + drift[2] - volatility[2] * volatility[2]/2 + volatility[2]* a3[path][i])\n",
    "\n",
    "    return(logcash[1:],logequit[1:],logbond[1:])"
   ]
  },
  {
   "cell_type": "code",
   "execution_count": null,
   "metadata": {},
   "outputs": [],
   "source": [
    "# useless\n",
    "price_log_cash= []\n",
    "price_log_equit = []\n",
    "price_log_bond = []\n",
    "    \n",
    "price2 = []\n",
    "matrix= np.array([[1,0,0],\n",
    "                  [0,1, rho],\n",
    "                  [0,rho,1]])\n",
    "ap =  math.exp(rho*volatility[1]*volatility[2]*year)\n",
    "a  =  ap-1"
   ]
  },
  {
   "cell_type": "code",
   "execution_count": 8,
   "metadata": {},
   "outputs": [],
   "source": [
    "\n",
    "drift = [0,5.625/100,0.00674642]\n",
    "volatility = [0,0.15,0.0222]\n",
    "rho = 0.2\n",
    "\n",
    "year = 2\n",
    "price0 = 1\n",
    "path = 1000000"
   ]
  },
  {
   "cell_type": "code",
   "execution_count": 9,
   "metadata": {},
   "outputs": [],
   "source": [
    "(a1,a2,a3)= np_random_list(year, path,rho)"
   ]
  },
  {
   "cell_type": "code",
   "execution_count": 10,
   "metadata": {},
   "outputs": [],
   "source": [
    "all_matrix = np.zeros((path,3,year))\n",
    "\n",
    "for i in range(path):\n",
    "    (_cash,_equit,_bond) = correlated_ts(year,price0,i,a1,a2,a3,drift,volatility)\n",
    "    all_matrix[i] =[_cash,_equit,_bond]\n",
    "    \n",
    "np.exp(all_matrix,all_matrix);"
   ]
  },
  {
   "cell_type": "code",
   "execution_count": 11,
   "metadata": {},
   "outputs": [],
   "source": [
    "equit_index = 1\n",
    "equit_matrix = all_matrix[:,equit_index]\n",
    "equit_final = all_matrix[:,equit_index,-1]\n",
    "\n",
    "bond_index  = 2\n",
    "bond_matrix = all_matrix[:,bond_index ]\n",
    "bond_final = all_matrix[:,bond_index ,-1]"
   ]
  },
  {
   "cell_type": "code",
   "execution_count": 12,
   "metadata": {},
   "outputs": [],
   "source": [
    "mean_equit = np.mean(equit_final)\n",
    "mean_bond = np.mean(bond_final)\n",
    "\n",
    "mean_equit_bond = np.mean( equit_final * bond_final)\n",
    "\n",
    "mu_eq_est = (math.log(mean_equit/price0))/year \n",
    "\n",
    "mu_bond_est = (math.log(mean_bond/price0))/year \n",
    "\n",
    "cov = math.log((mean_equit_bond/(mean_equit*mean_bond)))/year\n",
    "\n",
    "rho_est = cov/(volatility[1]*volatility[2])"
   ]
  },
  {
   "cell_type": "code",
   "execution_count": 13,
   "metadata": {},
   "outputs": [
    {
     "name": "stdout",
     "output_type": "stream",
     "text": [
      "mean equit 1.11940433846    1.11907225691\n",
      "mean bond 1.01358747751     1.01358427916\n",
      "mu equity 0.0563983515855    0.05625             error:  0.263736151962 %\n",
      "mu bond   0.00674799773842   0.00674642         error:  0.0233863058638 %\n",
      "cov       0.000666383044438   0.000666           error:  6.37768989395e-07 %\n",
      "rho       0.20011502836      0.2               error:  0.0575141798912 %\n"
     ]
    }
   ],
   "source": [
    "print \"mean equit\",mean_equit, \"  \",price0*math.exp(drift[equit_index]*year)\n",
    "print \"mean bond\",mean_bond,\"   \",price0*math.exp(drift[bond_index]*year)\n",
    "print \"mu equity\",mu_eq_est,\"  \",drift[equit_index],\"            error: \", 100*(mu_eq_est-drift[equit_index])/drift[equit_index],\"%\"\n",
    "print \"mu bond  \",mu_bond_est,\" \",drift[bond_index],\"        error: \",100*(mu_bond_est-drift[bond_index])/drift[bond_index],\"%\"\n",
    "print \"cov      \",cov,\" \", rho*volatility[1]*volatility[2],\"          error: \",100*(cov- rho*volatility[1]*volatility[2])/ rho*volatility[1]*volatility[2],\"%\"\n",
    "print \"rho      \",rho_est,\"    \", rho,\"              error: \",100*((rho_est - rho)/rho),\"%\""
   ]
  },
  {
   "cell_type": "code",
   "execution_count": null,
   "metadata": {},
   "outputs": [],
   "source": []
  }
 ],
 "metadata": {
  "kernelspec": {
   "display_name": "Python 2",
   "language": "python",
   "name": "python2"
  },
  "language_info": {
   "codemirror_mode": {
    "name": "ipython",
    "version": 2
   },
   "file_extension": ".py",
   "mimetype": "text/x-python",
   "name": "python",
   "nbconvert_exporter": "python",
   "pygments_lexer": "ipython2",
   "version": "2.7.16"
  }
 },
 "nbformat": 4,
 "nbformat_minor": 2
}
